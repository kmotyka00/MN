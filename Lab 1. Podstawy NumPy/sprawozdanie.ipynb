{
 "cells": [
  {
   "cell_type": "markdown",
   "metadata": {
    "slideshow": {
     "slide_type": "notes"
    }
   },
   "source": [
    "# <center>Laboratorium 1<br>Metody Numeryczne</center>"
   ]
  },
  {
   "source": [
    "Biblioteki niezbędne do wykonania zadania:\n",
    "\n",
    "(wykonanie tego bloku zapewnia do nich dostęp w kolejnych blokach)"
   ],
   "cell_type": "markdown",
   "metadata": {}
  },
  {
   "source": [
    "import numpy as np\n",
    "import math\n",
    "import scipy"
   ],
   "cell_type": "code",
   "metadata": {},
   "execution_count": 4,
   "outputs": []
  },
  {
   "source": [
    "Przydatne w trakcie zajęć mogą okazać się metody macierzy z pakietu Numpy, takie jak na przykład długość wektora - *[len]()* czy rozmiar macierzy -\n",
    "*[shape](https://docs.scipy.org/doc/numpy/reference/generated/numpy.ndarray.shape.html#numpy.ndarray.shape)*. Poniższy kod ilustruje ich podstawowe działanie. Dodatkowe metody obiektu $ndarray$ można znaleźć w oficjalnej *[dokumentacji](https://docs.scipy.org/doc/numpy/reference/arrays.ndarray.html)*."
   ],
   "cell_type": "markdown",
   "metadata": {}
  },
  {
   "cell_type": "code",
   "execution_count": 12,
   "metadata": {
    "tags": []
   },
   "outputs": [
    {
     "output_type": "stream",
     "name": "stdout",
     "text": [
      "Wektor:\n[1 2 3]\nDługość: 3\nRozmiar: (3,) \n\nMacierz:\n[[1 2 3]\n [4 5 6]\n [7 8 9]]\nRozmiar: (3, 3)\n"
     ]
    }
   ],
   "source": [
    "vector = np.array([1, 2, 3])\n",
    "print('Wektor:')\n",
    "print(vector)\n",
    "print('Długość:', len(vector))\n",
    "print('Rozmiar:', vector.shape, '\\n')\n",
    "\n",
    "matrix = np.array([[1, 2, 3], [4, 5, 6], [7, 8, 9]])\n",
    "print('Macierz:')\n",
    "print(matrix)\n",
    "print('Rozmiar:', matrix.shape)"
   ]
  },
  {
   "cell_type": "markdown",
   "metadata": {},
   "source": [
    "***Zadanie 1.***  \n",
    "Zaimplementuj funkcję $cylinder\\_area$ tak by zwracała pole powierzchni walca o promieniu podstawy $r$ i wysokości $h$. Stała $\\pi$ jest zdefiniowana np. w bibliotece *[math](https://docs.python.org/3/library/math.html#constants)*. Jeżeli nie da się policzyć pola funkcja powinna zwracać wartość *NaN*. Sprawdź działanie zaimplementowanej funkcji dla dowolnych wartości w tym notatniku.\n",
    "\n"
   ]
  },
  {
   "cell_type": "code",
   "execution_count": 2,
   "metadata": {},
   "outputs": [
    {
     "output_type": "stream",
     "name": "stdout",
     "text": [
      "18.84955592153876\nnan\nnan\nnan\n0.0\n"
     ]
    }
   ],
   "source": [
    "#Użyłem \"nan\" z modułu NumPy, dlatego też wyświetlana wartość to \"nan\" a nie \"NaN\".\n",
    "\n",
    "\n",
    "def cylinder_area(r:float,h:float):\n",
    "    if r>=0.0 and h>= 0.0:\n",
    "        return 2*math.pi*r**2+2*math.pi*r*h\n",
    "    else:\n",
    "        return np.nan\n",
    "\n",
    "\n",
    "print(cylinder_area(1,2))\n",
    "print (cylinder_area(-1,0))\n",
    "print (cylinder_area(1,-2))\n",
    "print (cylinder_area(-1,-1))\n",
    "print (cylinder_area(0,2))"
   ]
  },
  {
   "source": [
    "***Zadanie 2.***  \n",
    "Wygeneruj dowolne ciągi arytmetyczny o kroku różnym od jeden i niebędącym liczbą całkowitą, używając w tym celu funkcji *[arange](https://docs.scipy.org/doc/numpy/reference/generated/numpy.arange.html)* oraz *[linspace](https://docs.scipy.org/doc/numpy-1.10.0/reference/generated/numpy.linspace.html)*. Wypisz go i przeanalizuj otrzymane rezultaty."
   ],
   "cell_type": "markdown",
   "metadata": {}
  },
  {
   "cell_type": "code",
   "execution_count": 7,
   "metadata": {},
   "outputs": [
    {
     "output_type": "stream",
     "name": "stdout",
     "text": [
      "Series 1:  [ 3  5  7  9 11 13 15 17 19]\nSeries 2:  [ 2.  4.  6.  8. 10. 12. 14. 16. 18. 20.]\n"
     ]
    }
   ],
   "source": [
    "#analiza otrzymanych rezultatów jako tekst pod kodem\n",
    "\n",
    "series1 = np.arange(3,20,2)   \n",
    "series2= np.linspace(2,20,num=10)    \n",
    "\n",
    "print(\"Series 1: \",series1)\n",
    "print(\"Series 2: \",series2)"
   ]
  },
  {
   "source": [
    "Analiza otrzymanych rezultatów:\n",
    "\n",
    "Główną różnicą, jest to, że gdy używamy linspace, możemy podać wartość początkową, końcową oraz liczbę elementów i tworzony jest ciąg, którego krok jest obliczany automatycznie poprzez równomierne rozmieszeczenie liczb pomiędzy wartością początkową oraz końcową (odległości pomiędzy następnymi liczbami są równe), a w przypadku użyciu arange sami podajemy krok, wartość początkową oraz końcową a automatycznie dobierana jest ilość wygenerowanych liczb.\n",
    "\n",
    "Oprócz tego, różnicą którą można od razu zauważyć jest to, że w przypadku użycia linspace zamiast arange liczby generowane są z kropką.\n",
    "\n",
    "W dokumentacji udało mi się wyczytać, że gdy używamy kroku, który nie jest liczbą całkowitą, powinniśmy używać funkcji linspace zamiast arange."
   ],
   "cell_type": "markdown",
   "metadata": {}
  },
  {
   "source": [
    "***Zadanie 3.***  \n",
    "Zaimplementuj funkcję $fib$ zwracającą wektor pierszych n elementów *[ciągu Fibonnaciego](https://pl.wikipedia.org/wiki/Ci%C4%85g_Fibonacciego)*, jeżeli nie jest to możliwe funkcja powinna zwrócić wartość *None*."
   ],
   "cell_type": "markdown",
   "metadata": {}
  },
  {
   "cell_type": "code",
   "execution_count": 19,
   "metadata": {},
   "outputs": [
    {
     "output_type": "stream",
     "name": "stdout",
     "text": [
      "Ciąg nie jest generowany gdy liczba elementów wynosi 0:  None\nCiąg fibonacciego dla 1 elemtnu:  [1]\nCiąg nie jest generowany gdy podamy ujemną liczbę elemetów:  None\nCiąg fibonacciego dla 8 elemtnów:  [[ 1.  1.  2.  3.  5.  8. 13. 21.]]\nCiąg nie jest generowany gdy podamy liczbę typu float zamiast int:  None\nCiąg fibonacciego dla 0 elemtnów:  [[  1.   1.   2.   3.   5.   8.  13.  21.  34.  55.  89. 144. 233. 377.\n  610.]]\n"
     ]
    }
   ],
   "source": [
    "def fib(n:int):  \n",
    "    if type(n)!=int:\n",
    "        return None\n",
    "    if n==0:\n",
    "        return None\n",
    "    if n==1:\n",
    "        return [1]\n",
    "    if n>=1:\n",
    "        vect=np.ones((n,1))\n",
    "        a,b = (1,1)\n",
    "        for i in range (n):\n",
    "            vect[i]=a\n",
    "            a,b = b, a+b\n",
    "        return np.transpose(vect)\n",
    "    if n<0:\n",
    "        return None\n",
    "\n",
    "\n",
    "print (\"Ciąg nie jest generowany gdy liczba elementów wynosi 0: \",fib(0))\n",
    "print (\"Ciąg fibonacciego dla 1 elemtnu: \",fib(1))\n",
    "print (\"Ciąg nie jest generowany gdy podamy ujemną liczbę elemetów: \",fib(-2))\n",
    "print (\"Ciąg fibonacciego dla 8 elemtnów: \",fib(8))\n",
    "print (\"Ciąg nie jest generowany gdy podamy liczbę typu float zamiast int: \",fib(8.0))\n",
    "print (\"Ciąg fibonacciego dla 0 elemtnów: \",fib(15))\n"
   ]
  },
  {
   "cell_type": "markdown",
   "metadata": {},
   "source": [
    "***Zadanie 4.***  \n",
    "Napisz funkję $matrix\\_calculations$ która jako argument przyjmuje dowolną wartość liczbową *a* i tworzy macierz:  \n",
    "  \n",
    "$\\mathbf{M} =\\left[ \\begin{matrix}\n",
    "a & 1 & -a\\\\\n",
    "0 & 1 & 1\\\\\n",
    "-a & a & 1\n",
    "\\end{matrix}\\right]\n",
    "$    \n",
    "   \n",
    "Dla zadeklarowanej macierzy wyznacz numerycznie macierz odwrotną $\\mathbf{Minv}$ (jeżeli nie istnieje taka macierz wartość wynosi NaN), macierz transponowaną $\\mathbf{Mt}$ i wyznacznik macierzy $\\mathbf{Mdet}$. Zwróć otrzymane wartości w postaci krotki postaci $(\\mathbf{Minv}, \\mathbf{Mt}, \\mathbf{Mdet})$.  Wypisz otrzymane wyniki. \n",
    "  \n",
    "***Wskazówki:*** Do tworzenia obiektów mających własności macierzy w języku Python używa się klasy *[array](https://docs.scipy.org/doc/numpy-1.15.1/reference/generated/numpy.array.html)* z pakietu *[numpy](http://www.numpy.org/)*, przykładowe użycie:"
   ]
  },
  {
   "cell_type": "code",
   "execution_count": 2,
   "metadata": {
    "scrolled": true,
    "tags": []
   },
   "outputs": [
    {
     "output_type": "stream",
     "name": "stdout",
     "text": [
      "Wektor poziomy:\n [1 2 3]\nWektor pionowy:\n [[1]\n [2]\n [3]]\nMacierz:\n [[1 2]\n [3 4]]\n"
     ]
    }
   ],
   "source": [
    "import numpy as np # słowo kluczowe \"as\" oznacza przesłania nazwę numpy i pozwala  \n",
    "a = np.array([1, 2, 3])\n",
    "b = np.array([[1], [2], [3]])\n",
    "A = np.array([[1,2],[3,4]])\n",
    "print(\"Wektor poziomy:\\n {0}\".format(a))\n",
    "print(\"Wektor pionowy:\\n {0}\".format(b))\n",
    "print(\"Macierz:\\n {0}\".format(A))"
   ]
  },
  {
   "cell_type": "markdown",
   "metadata": {},
   "source": [
    "Do wykonania operacji odwracania macierzy należy użyć funkcji *[inv](https://docs.scipy.org/doc/numpy/reference/generated/numpy.linalg.inv.html)*, do obliczenia wyznacznika macierzy stosuje się funkcję *[det](https://docs.scipy.org/doc/numpy-1.15.0/reference/generated/numpy.linalg.det.html)*  z bliblioteki *[linalg](https://docs.scipy.org/doc/numpy/reference/routines.linalg.html)*. Natomiast transpozycję macierzy wykonujemy przez funkcję *[transpose](https://docs.scipy.org/doc/numpy-1.14.0/reference/generated/numpy.transpose.html)* której skrucona wersja to $M.T$ z pakietu *numpy*.  \n",
    "    \n",
    "*Ciekawostka:* Python natywnie nie zawiera struktury danych typu tablica, na poziomie języka jest to rozwiązane poprzez strukturę listy list do której elementów odwołuje się poprzez indeksy jak w C/C++."
   ]
  },
  {
   "cell_type": "code",
   "execution_count": 9,
   "metadata": {},
   "outputs": [
    {
     "output_type": "stream",
     "name": "stdout",
     "text": [
      "Wynik dla a=0:  (nan, array([[0, 0, 0],\n       [1, 1, 0],\n       [0, 1, 1]]), 0.0) \n\n\nWynik dla a=2:  (array([[ 0.125,  0.625, -0.375],\n       [ 0.25 ,  0.25 ,  0.25 ],\n       [-0.25 ,  0.75 , -0.25 ]]), array([[ 2.,  0., -2.],\n       [ 1.,  1.,  2.],\n       [-2.,  1.,  1.]]), -7.999999999999998) \n\n\n"
     ]
    }
   ],
   "source": [
    "def matrix_calculations(a:float):\n",
    "    M=np.array([[a, 1, -a],\n",
    "                [0, 1, 1],\n",
    "                [-a, a, 1]]) \n",
    "    \n",
    "    Mt= np.transpose(M) # Mt= M.T\n",
    "    Mdet = np.linalg.det(M)\n",
    "    \n",
    "    if Mdet==0:\n",
    "        Minv=np.nan\n",
    "    else:\n",
    "        Minv = np.linalg.inv(M)\n",
    "\n",
    "    return (Minv, Mt, Mdet)\n",
    "\n",
    "print(\"Wynik dla a=0: \",matrix_calculations(0),\"\\n\\n\") #gdy wyznacznik wynosi 0 nie można wykonać operacji odwracania macierzy, więc wyświetlana jest wartość nan\n",
    "\n",
    "\n",
    "print(\"Wynik dla a=2: \",matrix_calculations(2.0),\"\\n\\n\")"
   ]
  },
  {
   "cell_type": "markdown",
   "metadata": {},
   "source": [
    "***Zadanie 5.***  \n",
    "Stwórz w noataniku macierz:  \n",
    "$\\mathbf{M} =\\left[ \\begin{matrix}\n",
    "3 & 1 & -2 & 4\\\\\n",
    "0 & 1 & 1 & 5\\\\\n",
    "-2 & 1 & 1 & 6\\\\\n",
    "4 & 3 & 0 & 1\\\\\n",
    "\\end{matrix}\\right]\n",
    "$   \n",
    "Wypisz przy pomocy funkcji *print* następujące elementy macierzy $\\mathbf{M}$: $\\mathbf{M}_{1,1},\\mathbf{M}_{3,3},\\mathbf{M}_{3,2}$. Zdefiniuj wektor $\\mathbf{w1}$ którego elementy to trzecia kolumna macierzy $\\mathbf{M}$ oraz wektor $\\mathbf{w2}$ który składa się z drugiego wiersza tej macierzy.  \n",
    "  \n",
    "***Wskazówki:***\n",
    "Tablice z pakietu *numpy* są indeksowane od zera a do każdego elementu można odwołać się poprzez jego indeks. Przykład użycie\n"
   ]
  },
  {
   "cell_type": "code",
   "execution_count": 10,
   "metadata": {
    "tags": []
   },
   "outputs": [
    {
     "output_type": "stream",
     "name": "stdout",
     "text": [
      "Macierz P=\n[[1 3 2]\n [3 4 6]\n [7 8 9]]\nElementy trzeciej kolumny:\n [2 6 9]\nElementy trzeciego wiersza:\n [7 8 9]\n"
     ]
    }
   ],
   "source": [
    "# Inicjalizacja macierzy do przykładu\n",
    "P = np.array([[1,3,2],[3,4, 6],[7,8,9]])\n",
    "print(\"Macierz P=\\n{0}\".format(P))\n",
    "# wyciągnięcie trzeciej kolumny \n",
    "wektor1 = P[:,2]\n",
    "# wyciągnięcie trzeciego wiersza \n",
    "wektor2 = P[2,:]\n",
    "print(\"Elementy trzeciej kolumny:\\n {0}\".format(wektor1))\n",
    "print(\"Elementy trzeciego wiersza:\\n {0}\".format(wektor2))"
   ]
  },
  {
   "cell_type": "markdown",
   "metadata": {},
   "source": [
    "Dodatkowo twórcy biblioteki umożliwiają użytkownikowi na manipulację elementami tablicy poprzez operator ':', więcej szczegółów na temat jego użycia w artykule [NumPy for Matlab users](https://docs.scipy.org/doc/numpy/user/numpy-for-matlab-users.html#numpy-for-matlab-users)."
   ]
  },
  {
   "cell_type": "code",
   "execution_count": 12,
   "metadata": {},
   "outputs": [
    {
     "output_type": "stream",
     "name": "stdout",
     "text": [
      "Macierz M=\n[[ 3  1 -2  4]\n [ 0  1  1  5]\n [-2  1  1  6]\n [ 4  3  0  1]]\nM(1,1) =  3\nM(3,3) =  1\nM(3,2) =  1\n"
     ]
    }
   ],
   "source": [
    "M=np.array([[3, 1, -2, 4],\n",
    "   [0, 1, 1, 5],\n",
    "   [-2, 1, 1, 6],\n",
    "   [4, 3, 0, 1]])\n",
    "\n",
    "print(\"Macierz M=\\n{0}\".format(M))\n",
    "\n",
    "print(\"M(1,1) = \",M[0,0]) #wypisanie elementu M(1,1)\n",
    "print(\"M(3,3) = \",M[2,2]) #wypisanie elementu M(3,3)\n",
    "print(\"M(3,2) = \",M[2,1]) #wypisanie elementu M(3,2)\n",
    "\n",
    "w1=M[:,2] # utworzenie wektora będącego 3 kolumną macierzy M\n",
    "w2=M[1,:] # utworzenie wektora będącego 2 wierszem macierzy M"
   ]
  },
  {
   "source": [
    "***Zadanie 6.***   \n",
    "Uzupełnij funkcję $custom\\_matrix$, tak by parametry m, n określały wymiary macierzy wynikowej, która\n",
    "będzie wypełniona w/g algorytmu: jeśli indeks wiersza jest większy od indeksu kolumny\n",
    "wartością komórki jest indeks wiersza, w przeciwnym wypadku wartością komórki jest indeks\n",
    "kolumny. Funkcja jako wynik powinna zwracać uzupełnioną macierz, jeżeli nie jest to możliwe to powinna zwrócić *None*. Na koniec wyświetlić wynikową macierz dla dowolnych argumentów $m$, $n$ z przedziału $\\langle3,7\\rangle$.\n",
    "  \n",
    "***Wskazówka:*** Inicjalizacja pustej macierz wykonywana jest w pakiecie Numpy przy pomocy funkcji  *[zeros](https://docs.scipy.org/doc/numpy-1.15.0/reference/generated/numpy.zeros.html)*, zaś macierzy składającej się z jedynek *[ones](https://docs.scipy.org/doc/numpy/reference/generated/numpy.ones.html)*."
   ],
   "cell_type": "markdown",
   "metadata": {}
  },
  {
   "cell_type": "code",
   "execution_count": 18,
   "metadata": {
    "tags": []
   },
   "outputs": [
    {
     "output_type": "stream",
     "name": "stdout",
     "text": [
      "zero_matrix: \n[[0. 0.]\n [0. 0.]]\nones_matrix: \n[[1.]\n [1.]\n [1.]]\n"
     ]
    }
   ],
   "source": [
    "zero_matrix = np.zeros((2, 2))\n",
    "ones_matrix = np.ones((3,1))\n",
    "\n",
    "print('zero_matrix: \\n{}'.format(zero_matrix))\n",
    "print('ones_matrix: \\n{}'.format(ones_matrix))"
   ]
  },
  {
   "cell_type": "code",
   "execution_count": 13,
   "metadata": {},
   "outputs": [
    {
     "output_type": "stream",
     "name": "stdout",
     "text": [
      "Macierz 5x4:  [[0. 1. 2. 3.]\n [1. 1. 2. 3.]\n [2. 2. 2. 3.]\n [3. 3. 3. 3.]\n [4. 4. 4. 4.]]\nMacierz 0x4:  None\n"
     ]
    }
   ],
   "source": [
    "def custom_matrix(m:int, n:int):\n",
    "    if type(m)!=int or type(n)!=int:\n",
    "        return None\n",
    "    \n",
    "    if m>0 and n>0:\n",
    "        M=np.ones((m,n))\n",
    "        for i in range (m):\n",
    "            for j in range (n):\n",
    "                if i>j:\n",
    "                    M[i,j]=i\n",
    "                else:\n",
    "                    M[i,j]=j\n",
    "        return M\n",
    "    else:\n",
    "        return None\n",
    "\n",
    "print(\"Macierz 5x4: \",custom_matrix(5,4))\n",
    "print(\"Macierz 0x4: \",custom_matrix(0,4))"
   ]
  },
  {
   "source": [
    "***Zadanie 7.***\n",
    "\n",
    "Biblioteka Numpy posiada własne metody, pozwalające na szybsze i wygotniejsze wykonywanie operacji na wektorach i macierzach. Kolejne zadania mają na celu przećwiczenie tych metod. Zamiast samemu implementować mnożenie macierzy, należy skorzystać właśnie z wbudowanych funkcji Numpy. Najbardzie podstawowe z nich to *[np.multiply](https://docs.scipy.org/doc/numpy-1.15.0/reference/generated/numpy.multiply.html)*, *[np.dot](https://docs.scipy.org/doc/numpy-1.15.0/reference/generated/numpy.dot.html)* oraz *[np.matmul](https://docs.scipy.org/doc/numpy-1.15.1/reference/generated/numpy.matmul.html)*. Przed wykonaniem zadania należy zapoznać się z ich dokumentacją, aby stosować poprawną funkcję do danego typu mnożenia. Dodatkowo ciekawą i użyteczną funkcjonalnością Numpy, wykorzystywaną niekiedy przy dodawaniu macierzy jest *broadcasting*, proszę o zapoznaie się z opisem:  *[[1]](https://docs.scipy.org/doc/numpy-1.15.0/user/basics.broadcasting.html)* *[[2]](https://www.tutorialspoint.com/numpy/numpy_broadcasting.htm)*.\n",
    "\n",
    "Zainicjalizować dwa wektory $v_1$ i $v_2$:\n",
    "\n",
    "$v_1 = \\begin{bmatrix}1\\\\3\\\\13\\end{bmatrix} \\quad v_2 = \\begin{bmatrix}8\\\\5\\\\-2\\end{bmatrix}$\n",
    "\n",
    "Następnie wykonać operacje i wypisać ich wynik:\n",
    "- $4*v_1$\n",
    "- $-v_2 + \\begin{bmatrix}2\\\\2\\\\2\\end{bmatrix}$\n",
    "- $v_1 \\circ v_2$ (w sensie mnożenia macierzy, tzw. mnożenie macierzy w sensie Cauchy’ego)\n",
    "- $v_1 * v_2$ (w sensie mnożenia Hadamarda (element-wise))\n",
    "\n",
    "***Wskazówki:*** Warto wiedzieć o *[np.dot](https://docs.scipy.org/doc/numpy-1.15.0/reference/generated/numpy.dot.html)* i *[np.multiply](https://docs.scipy.org/doc/numpy-1.15.0/reference/generated/numpy.multiply.html)*. Zbadać jak zachowuje się przeciążony operator mnożenia $*$ oraz $@$ dla macierzy $ndarray$."
   ],
   "cell_type": "markdown",
   "metadata": {}
  },
  {
   "source": [
    "v1 = np.array([[1,3,13]]).T\n",
    "v2 = np.array([[8,5,-2]]).T\n",
    "print (\"4*v1= \\n =\",4*v1,\"\\n\")\n",
    "print (\"-v2+[[2],[2],[2]]= \\n =\",-v2+[[2],[2],[2]],\"\\n\")\n",
    "print (\"v1 * v2= \\n =\", v1*v2,\"\\n\")\n",
    "print (\"Inny sposób: v1 * v2= \\n =\", np.multiply(v1,v2),\"\\n\")\n",
    "# print(\"v1 o v2= \\n =\",v1@v2,\"\\n\")  - nie można wykonać (brak zgodności wymiarów)\n",
    "#multiply działa w ten sposób, że wykonuje mnożenie element-wise, matmul jest najlepszy do działań na macierzach 2-D\n"
   ],
   "cell_type": "code",
   "metadata": {},
   "execution_count": 14,
   "outputs": [
    {
     "output_type": "stream",
     "name": "stdout",
     "text": [
      "4*v1= \n = [[ 4]\n [12]\n [52]] \n\n-v2+[[2],[2],[2]]= \n = [[-6]\n [-3]\n [ 4]] \n\nv1 * v2= \n = [[  8]\n [ 15]\n [-26]] \n\nInny sposób: v1 * v2= \n = [[  8]\n [ 15]\n [-26]] \n\n"
     ]
    }
   ]
  },
  {
   "source": [
    "Wykonanie operacji mnożenia macierzowego na powyższych wektorach jest niemożliwe, ponieważ nie mamy zgodności odpowiednich wymiarów.\n",
    "\n",
    "Operator @ dokonuje mnożenia macierzowego (w sensie Cauchy'ego), operator * dokonuje mnożenia element-wise, czyli działa tak samo jak numpy.multiply()"
   ],
   "cell_type": "markdown",
   "metadata": {}
  },
  {
   "source": [
    "***Zadanie 8.***\n",
    "Zainicjalizować macierz $M_1$:\n",
    "\n",
    "$M_1 = \\begin{bmatrix}1&-7&3\\\\-12&3&4\\\\5&13&-3\\end{bmatrix}$\n",
    "\n",
    "Następnie wykonać operacje i wypisać ich wynik:\n",
    "- $3M_1$\n",
    "- $3M_1 + \\begin{bmatrix}1&1&1\\\\1&1&1\\\\1&1&1\\end{bmatrix}$\n",
    "- $M_1^T$\n",
    "- $M_1 \\circ v_1$ \n",
    "- $v_2^T \\circ M_1$"
   ],
   "cell_type": "markdown",
   "metadata": {}
  },
  {
   "cell_type": "code",
   "execution_count": 15,
   "metadata": {},
   "outputs": [
    {
     "output_type": "stream",
     "name": "stdout",
     "text": [
      "3*M1 = \n = [[  3 -21   9]\n [-36   9  12]\n [ 15  39  -9]] \n\n3*M1 + J = \n = [[  4. -20.  10.]\n [-35.  10.  13.]\n [ 16.  40.  -8.]] \n\nM1' = \n = [[  1 -12   5]\n [ -7   3  13]\n [  3   4  -3]] \n\nM1 o v1 = \n [[19]\n [49]\n [ 5]] \n\nv2' o M1 = \n [[-62 -67  50]] \n\n"
     ]
    }
   ],
   "source": [
    "M1=np.array([[1, -7, 3],[-12, 3, 4],[5, 13, -3]])\n",
    "print (\"3*M1 = \\n =\",3*M1,\"\\n\")\n",
    "print (\"3*M1 + J = \\n =\",3*M1+np.ones((3,3)),\"\\n\")\n",
    "print (\"M1' = \\n =\",np.transpose(M1),\"\\n\")\n",
    "print (\"M1 o v1 = \\n\",M1@v1,\"\\n\")\n",
    "print (\"v2' o M1 = \\n\", np.transpose(v2)@M1, \"\\n\")"
   ]
  },
  {
   "cell_type": "markdown",
   "metadata": {},
   "source": [
    "Materiały uzupełniające:\n",
    "- [Scipy Lecture Notes](http://www.scipy-lectures.org/index.html)\n",
    "- [NumPy for Matlab users](https://docs.scipy.org/doc/numpy/user/numpy-for-matlab-users.html#numpy-for-matlab-users)\n",
    "- [Python Tutorial - W3Schools](https://www.w3schools.com/python/default.asp)\n",
    "- [NumPy](https://www.numpy.org)\n",
    "- [Matplotlib](https://matplotlib.org/)\n",
    "- [Anaconda](https://www.anaconda.com/)\n",
    "- [Learn Python for Data Science](https://www.datacamp.com/learn-python-with-anaconda?utm_source=Anaconda_download&utm_campaign=datacamp_training&utm_medium=banner)\n",
    "- [Learn Python](https://www.learnpython.org/)\n",
    "- [Wujek Google](https://google.pl) i [Ciocia Wikipedia](https://pl.wikipedia.org/wiki/Wikipedia:Strona_g%C5%82%C3%B3wna)"
   ]
  }
 ],
 "metadata": {
  "celltoolbar": "Raw Cell Format",
  "kernelspec": {
   "display_name": "Python 3",
   "language": "python",
   "name": "python3"
  },
  "language_info": {
   "codemirror_mode": {
    "name": "ipython",
    "version": 3
   },
   "file_extension": ".py",
   "mimetype": "text/x-python",
   "name": "python",
   "nbconvert_exporter": "python",
   "pygments_lexer": "ipython3",
   "version": "3.8.3-final"
  }
 },
 "nbformat": 4,
 "nbformat_minor": 2
}